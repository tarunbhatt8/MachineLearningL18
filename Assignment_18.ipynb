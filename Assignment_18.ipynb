{
 "cells": [
  {
   "cell_type": "markdown",
   "metadata": {},
   "source": [
    "# Question 1"
   ]
  },
  {
   "cell_type": "markdown",
   "metadata": {},
   "source": [
    "Inputs = a, b, c\n",
    "\n",
    "Given :\n",
    "\n",
    "u = a * b\n",
    "\n",
    "v = a * c\n",
    "\n",
    "w = b + c\n",
    "\n",
    "F = u + v - w\n",
    "\n",
    "Solution:\n",
    "\n",
    "F = (a b) + (a c) - (b + c)\n",
    "\n",
    "F = a * (b + c) - (b + c)\n",
    "\n",
    "F = (b + c)(a - 1)\n",
    "\n",
    "Final value of F in simplest form = (b + c)(a - 1)"
   ]
  },
  {
   "cell_type": "markdown",
   "metadata": {},
   "source": [
    "# Question 2"
   ]
  },
  {
   "cell_type": "markdown",
   "metadata": {},
   "source": [
    "Inputs = -0.06, -2.5, 1.4\n",
    "\n",
    "Weights = 2.7, -8.6, 0.002\n",
    "\n",
    "f(x) = 1/(1+e^-x)\n",
    "\n",
    "x = -0.06x2.7 + (-2.5)x(-8.6) + 1.4 x 0.002\n",
    "\n",
    "x = 21.3408\n",
    "\n",
    "f(x) = sig(21.3408)\n",
    "\n",
    "f(x) = 0.999999999460\n",
    "\n",
    "If bias = -1.1\n",
    "\n",
    "x = 21.3408 - 1.1\n",
    "\n",
    "x = 20.2408\n",
    "\n",
    "new f(x) = sig(20.2408)\n",
    "\n",
    "new f(x) = 0.999999998379\n",
    "\n",
    "A bias unit is an \"extra\" neuron added to each pre-output layer that stores the value of 1. Bias units aren't connected to any previous layer and in this sense don't represent a true \"activity\". A bias value allows you to shift the activation function to the left or right, which may be critical for successful learning.\n",
    "\n",
    "The bias units are characterized by the text \"+1\". A bias unit is just appended to the start/end of the input and each hidden layer, and isn't influenced by the values in the previous layer. In other words, these neurons don't have any incoming connections. Bias units still have outgoing connections and they can contribute to the output of the ANN."
   ]
  }
 ],
 "metadata": {
  "kernelspec": {
   "display_name": "Python 3",
   "language": "python",
   "name": "python3"
  },
  "language_info": {
   "codemirror_mode": {
    "name": "ipython",
    "version": 3
   },
   "file_extension": ".py",
   "mimetype": "text/x-python",
   "name": "python",
   "nbconvert_exporter": "python",
   "pygments_lexer": "ipython3",
   "version": "3.6.5"
  }
 },
 "nbformat": 4,
 "nbformat_minor": 2
}
